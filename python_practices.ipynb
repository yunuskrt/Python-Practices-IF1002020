{
  "nbformat": 4,
  "nbformat_minor": 0,
  "metadata": {
    "colab": {
      "provenance": []
    },
    "kernelspec": {
      "name": "python3",
      "display_name": "Python 3"
    },
    "language_info": {
      "name": "python"
    }
  },
  "cells": [
    {
      "cell_type": "markdown",
      "source": [
        "**THE1 - Basic Of Programming**"
      ],
      "metadata": {
        "id": "w7cLAK82M1Ql"
      }
    },
    {
      "cell_type": "code",
      "execution_count": null,
      "metadata": {
        "id": "Mu1UaNFl_WwJ"
      },
      "outputs": [],
      "source": [
        "quota = float(input('Please enter your internet quota (GB): '))\n",
        "video_minutes = float(input('Please enter your total video viewing time in minutes: '))\n",
        "num_messages = int(input('Please enter the number of messages you send: '))\n",
        "\n",
        "remaining_quota = quota - ((video_minutes*7.7/1024) + (num_messages*1.7/(1024*1024)))\n",
        "watchable_seconds = remaining_quota*1024*60/7.7\n",
        "h = watchable_seconds // (60*60)\n",
        "watchable_seconds -= (h*60*60)\n",
        "m = watchable_seconds // 60\n",
        "watchable_seconds -= (m*60)\n",
        "s = watchable_seconds\n",
        "\n",
        "print('Your remaining internet quota is', format(remaining_quota, '.2f'), 'GB(s).')\n",
        "print('You can watch video for {} hour(s), {} minute(s) and {} second(s).'.format(h,m, format(s,'.2f')))"
      ]
    },
    {
      "cell_type": "markdown",
      "source": [
        "**THE2 - If Statement Sequences and Methods**"
      ],
      "metadata": {
        "id": "MDVphdHdM6M-"
      }
    },
    {
      "cell_type": "code",
      "source": [
        "previous_courses = input('Please enter the courses you have taken previously with letter grades: ')\n",
        "if(previous_courses.count(':') != previous_courses.count(';')+1):\n",
        "  print('Invalid input')\n",
        "else:\n",
        "  current_courses = input('Please enter the courses you have taken this semester with letter grades: ')\n",
        "  if current_courses.count(':') != current_courses.count(';')+1:\n",
        "    print('Invalid input')\n",
        "  else:\n",
        "    prev_list = previous_courses.upper().split(';')\n",
        "    curr_list = current_courses.upper().split(';')\n",
        "\n",
        "    check_course = input('Please enter the course you want to check: ').upper()\n",
        "\n",
        "    found = False\n",
        "\n",
        "    for course in curr_list:\n",
        "      index = course.find(':')\n",
        "      lesson = course[:index]\n",
        "      \n",
        "      if lesson == check_course:\n",
        "        grade = course[index+1:]\n",
        "        \n",
        "        if grade == 'F':     \n",
        "          for c in prev_list:  \n",
        "            i = c.find(':')\n",
        "            if c[:i] == check_course:\n",
        "              prev_grade = c[i+1:]\n",
        "              if (prev_grade == 'U'):\n",
        "                print('Your grade for', check_course, 'is U.')\n",
        "              else:\n",
        "                print('Your grade for', check_course, 'is F.')\n",
        "              found = True\n",
        "              break\n",
        "          if (found == False):\n",
        "            print('Your grade for', check_course, 'is U.')\n",
        "            found = True\n",
        "          break  \n",
        "          \n",
        "        else:\n",
        "          print('You can choose between S and', grade, 'for', lesson)\n",
        "          found = True\n",
        "\n",
        "    if found == False:\n",
        "      print(\"You didn't take\", check_course, 'this semester.')"
      ],
      "metadata": {
        "id": "45weRK1eM-7C"
      },
      "execution_count": null,
      "outputs": []
    },
    {
      "cell_type": "markdown",
      "source": [
        "**THE3 - Loops (For - While Statements)**"
      ],
      "metadata": {
        "id": "YS9wlC9xtlRB"
      }
    },
    {
      "cell_type": "code",
      "source": [
        "movie_names = input('Please enter movie names and remaining quota: ')\n",
        "requested_movie = input('Please enter the movie you want to watch: ')\n",
        "\n",
        "movie_list = movie_names.split(',')\n",
        "data = {}\n",
        "\n",
        "for movie in movie_list:\n",
        "  first = movie.find(':')\n",
        "  second = movie.rfind(':')\n",
        "  \n",
        "  movie_name = movie[:first]\n",
        "  movie_seats = int(movie[first+1:second])\n",
        "  movie_genre = movie[second+1:]\n",
        "\n",
        "  if movie_genre not in data:\n",
        "    m = {}\n",
        "    m[movie_name] = movie_seats\n",
        "    data[movie_genre] = m\n",
        "  else:\n",
        "    if movie_name not in data[movie_genre]:\n",
        "      data[movie_genre][movie_name] = movie_seats\n",
        "    else:\n",
        "      data[movie_genre][movie_name] += movie_seats\n",
        "\n",
        "found = False\n",
        "Genre = None\n",
        "for genre,movies in data.items():\n",
        "  for name,seat in movies.items():\n",
        "    if name == requested_movie:\n",
        "      found = True\n",
        "      Genre = genre\n",
        "      break\n",
        "\n",
        "if not found:\n",
        "  print('There is no such movie in the theather.')\n",
        "else:\n",
        "  num_tickets = int(input('Please enter the number of tickets you want to buy: '))\n",
        "  seats = data[Genre][requested_movie]\n",
        "  \n",
        "  if seats >= num_tickets:\n",
        "    print('The reservation is done!')\n",
        "  else:\n",
        "    check = False\n",
        "    movie_list = []\n",
        "    for n,s in data[Genre].items():\n",
        "      if s >= num_tickets:\n",
        "        check = True\n",
        "        movie_list.append(n)\n",
        "    \n",
        "    if check:\n",
        "      movie_list.sort()\n",
        "      print('There are not enough seats for ' + requested_movie + '! But you can watch one of the following from the genre ' + Genre + ':')\n",
        "      for m in movie_list:\n",
        "        print ('*',m)\n",
        "    else:\n",
        "      print('There are not enough seats for ' + requested_movie + ' and any other movie with the genre ' + Genre + '!')"
      ],
      "metadata": {
        "id": "IO8iyMvvtwx1"
      },
      "execution_count": null,
      "outputs": []
    },
    {
      "cell_type": "markdown",
      "source": [
        "**THE4 - Loops, Dictionaries, Functions and File Operations**"
      ],
      "metadata": {
        "id": "Fxkt8it9t27v"
      }
    },
    {
      "cell_type": "code",
      "source": [
        "file1 = open('products.txt', 'r')\n",
        "\n",
        "data = {}\n",
        "for line in file1:\n",
        "  product_list = line.strip().split('-')\n",
        "  for product in product_list:\n",
        "    index = product.find('_')\n",
        "    name = product[:index].lower()\n",
        "    number = int(product[index+1:])\n",
        "\n",
        "    if name not in data:\n",
        "      data[name] = number\n",
        "    else:\n",
        "      data[name] += number\n",
        "\n",
        "menu = \"\"\"\n",
        "*---------------------------\n",
        "[1] Sell products\n",
        "[2] Show remaining inventory\n",
        "[3] Terminate\n",
        "\"\"\"\n",
        "print(menu)\n",
        "choice = int(input('Please enter your decision: '))\n",
        "print('----------------------------')\n",
        "\n",
        "while True:\n",
        "  if choice == 1:\n",
        "    product_sell = input('Please enter products to sell: ')\n",
        "    \n",
        "    product_list = product_sell.split('-')\n",
        "    for product in product_list:\n",
        "      index = product.find('_')\n",
        "      name = product[:index].lower()\n",
        "      if name not in data:\n",
        "        print(name, 'does not exist in inventory.')\n",
        "      else:\n",
        "        number = int(product[index+1:])\n",
        "        if data[name] < number:\n",
        "          print('There is not enough', name, 'in inventory.')\n",
        "        else:\n",
        "          print(str(number) + ' ' + name +  ' sold.')\n",
        "          data[name] -= number\n",
        "          if data[name] == 0:\n",
        "            data.pop(name)\n",
        "    \n",
        "  elif choice == 2:\n",
        "    if len(data) == 0:\n",
        "      print('Inventory is empty!')\n",
        "    else:\n",
        "      for name in sorted(data):\n",
        "        print(name, ':',data[name])\n",
        "  elif choice == 3:\n",
        "    print('Terminating...')\n",
        "    break\n",
        "  else:\n",
        "    print('Invalid input!')\n",
        "\n",
        "  print(menu)\n",
        "  choice = int(input('Please enter your decision: '))\n",
        "  print('----------------------------')\n"
      ],
      "metadata": {
        "id": "dPgBqaCittOB"
      },
      "execution_count": null,
      "outputs": []
    }
  ]
}